{
  "nbformat": 4,
  "nbformat_minor": 0,
  "metadata": {
    "colab": {
      "provenance": [],
      "gpuType": "T4",
      "authorship_tag": "ABX9TyM99MsPlhPBYmjIbMYsCEzq",
      "include_colab_link": true
    },
    "kernelspec": {
      "name": "python3",
      "display_name": "Python 3"
    },
    "language_info": {
      "name": "python"
    },
    "accelerator": "GPU"
  },
  "cells": [
    {
      "cell_type": "markdown",
      "metadata": {
        "id": "view-in-github",
        "colab_type": "text"
      },
      "source": [
        "<a href=\"https://colab.research.google.com/github/Blane187/rvc-dataset-maker-webui/blob/main/rvc_dataset_maker_webui.ipynb\" target=\"_parent\"><img src=\"https://colab.research.google.com/assets/colab-badge.svg\" alt=\"Open In Colab\"/></a>"
      ]
    },
    {
      "cell_type": "code",
      "execution_count": null,
      "metadata": {
        "cellView": "form",
        "id": "9aTC-PeJ89Md"
      },
      "outputs": [],
      "source": [
        "\n",
        "#@title run and install\n",
        "\n",
        "\n",
        "drive = True #@param {type:\"boolean\"}\n",
        "\n",
        "if drive:\n",
        "    from google.colab import drive\n",
        "    drive.mount('/content/drive')\n",
        "    %cd /content/drive/MyDrive\n",
        "    !git clone https://github.com/Blane187/rvc-dataset-maker-webui.git\n",
        "    %cd rvc-dataset-maker-webui\n",
        "    !pip install -r requirements.txt\n",
        "    !python app.py\n",
        "else:\n",
        "    !git clone https://github.com/Blane187/rvc-dataset-maker-webui.git\n",
        "    %cd rvc-dataset-maker-webui\n",
        "    !pip install -r requirements.txt\n",
        "    !python app.py"
      ]
    }
  ]
}